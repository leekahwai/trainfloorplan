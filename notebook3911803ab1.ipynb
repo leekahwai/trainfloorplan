{
 "cells": [
  {
   "cell_type": "code",
   "execution_count": 1,
   "id": "4ecb03f2",
   "metadata": {
    "_cell_guid": "b1076dfc-b9ad-4769-8c92-a6c4dae69d19",
    "_uuid": "8f2839f25d086af736a60e9eeb907d3b93b6e0e5",
    "execution": {
     "iopub.execute_input": "2022-12-15T14:56:22.136795Z",
     "iopub.status.busy": "2022-12-15T14:56:22.136211Z",
     "iopub.status.idle": "2022-12-15T14:56:42.613185Z",
     "shell.execute_reply": "2022-12-15T14:56:42.611216Z"
    },
    "papermill": {
     "duration": 20.484046,
     "end_time": "2022-12-15T14:56:42.615880",
     "exception": true,
     "start_time": "2022-12-15T14:56:22.131834",
     "status": "failed"
    },
    "tags": []
   },
   "outputs": [
    {
     "name": "stdout",
     "output_type": "stream",
     "text": [
      "Cloning into 'yolov5'...\r\n",
      "fatal: unable to access 'https://github.com/ultralytics/yolov5/': Could not resolve host: github.com\r\n",
      "[Errno 2] No such file or directory: 'yolov5'\n",
      "/kaggle/working\n"
     ]
    },
    {
     "name": "stderr",
     "output_type": "stream",
     "text": [
      "UsageError: Line magic function `%pip3` not found.\n"
     ]
    }
   ],
   "source": [
    "!git clone https://github.com/ultralytics/yolov5  # clone\n",
    "%cd yolov5\n",
    "%pip3 install -qr requirements.txt  # install"
   ]
  },
  {
   "cell_type": "markdown",
   "id": "13a14912",
   "metadata": {
    "papermill": {
     "duration": null,
     "end_time": null,
     "exception": null,
     "start_time": null,
     "status": "pending"
    },
    "tags": []
   },
   "source": [
    "Actual training of the YoloV5 "
   ]
  },
  {
   "cell_type": "code",
   "execution_count": null,
   "id": "68b4a73b",
   "metadata": {
    "papermill": {
     "duration": null,
     "end_time": null,
     "exception": null,
     "start_time": null,
     "status": "pending"
    },
    "tags": []
   },
   "outputs": [],
   "source": [
    "!python train.py --img 640 --batch 16 --epochs 3 --data train/data.yaml --weights yolov5s.pt --cache"
   ]
  },
  {
   "cell_type": "markdown",
   "id": "dca1b1de",
   "metadata": {
    "papermill": {
     "duration": null,
     "end_time": null,
     "exception": null,
     "start_time": null,
     "status": "pending"
    },
    "tags": []
   },
   "source": [
    "Detection using the trained datasets"
   ]
  },
  {
   "cell_type": "code",
   "execution_count": null,
   "id": "a2dc7047",
   "metadata": {
    "papermill": {
     "duration": null,
     "end_time": null,
     "exception": null,
     "start_time": null,
     "status": "pending"
    },
    "tags": []
   },
   "outputs": [],
   "source": []
  }
 ],
 "metadata": {
  "kernelspec": {
   "display_name": "Python 3",
   "language": "python",
   "name": "python3"
  },
  "language_info": {
   "codemirror_mode": {
    "name": "ipython",
    "version": 3
   },
   "file_extension": ".py",
   "mimetype": "text/x-python",
   "name": "python",
   "nbconvert_exporter": "python",
   "pygments_lexer": "ipython3",
   "version": "3.7.12"
  },
  "papermill": {
   "default_parameters": {},
   "duration": 29.002008,
   "end_time": "2022-12-15T14:56:43.239738",
   "environment_variables": {},
   "exception": true,
   "input_path": "__notebook__.ipynb",
   "output_path": "__notebook__.ipynb",
   "parameters": {},
   "start_time": "2022-12-15T14:56:14.237730",
   "version": "2.3.4"
  }
 },
 "nbformat": 4,
 "nbformat_minor": 5
}
