{
 "cells": [
  {
   "cell_type": "code",
   "execution_count": 1,
   "id": "d372ecea",
   "metadata": {
    "_cell_guid": "b1076dfc-b9ad-4769-8c92-a6c4dae69d19",
    "_uuid": "8f2839f25d086af736a60e9eeb907d3b93b6e0e5",
    "execution": {
     "iopub.execute_input": "2022-12-17T15:30:00.377179Z",
     "iopub.status.busy": "2022-12-17T15:30:00.376350Z",
     "iopub.status.idle": "2022-12-17T15:30:03.754130Z",
     "shell.execute_reply": "2022-12-17T15:30:03.752562Z"
    },
    "papermill": {
     "duration": 3.385247,
     "end_time": "2022-12-17T15:30:03.756580",
     "exception": false,
     "start_time": "2022-12-17T15:30:00.371333",
     "status": "completed"
    },
    "tags": []
   },
   "outputs": [
    {
     "name": "stdout",
     "output_type": "stream",
     "text": [
      "[Errno 2] No such file or directory: '/kaggle/working/yolov5'\n",
      "/kaggle/working\n",
      "\u001b[31mERROR: Could not open requirements file: [Errno 2] No such file or directory: 'requirements.txt'\u001b[0m\u001b[31m\r\n",
      "\u001b[0mNote: you may need to restart the kernel to use updated packages.\n"
     ]
    }
   ],
   "source": [
    "#!git clone https://github.com/ultralytics/yolov5  # clone\n",
    "%cd /kaggle/working/yolov5\n",
    "%pip install -r requirements.txt  # install"
   ]
  },
  {
   "cell_type": "markdown",
   "id": "9276fa51",
   "metadata": {
    "papermill": {
     "duration": 0.002284,
     "end_time": "2022-12-17T15:30:03.761935",
     "exception": false,
     "start_time": "2022-12-17T15:30:03.759651",
     "status": "completed"
    },
    "tags": []
   },
   "source": [
    "# Copies the input trained data and to detect files to output folder"
   ]
  },
  {
   "cell_type": "code",
   "execution_count": 2,
   "id": "024c0389",
   "metadata": {
    "execution": {
     "iopub.execute_input": "2022-12-17T15:30:03.768689Z",
     "iopub.status.busy": "2022-12-17T15:30:03.768325Z",
     "iopub.status.idle": "2022-12-17T15:30:08.097554Z",
     "shell.execute_reply": "2022-12-17T15:30:08.096241Z"
    },
    "papermill": {
     "duration": 4.335749,
     "end_time": "2022-12-17T15:30:08.100169",
     "exception": false,
     "start_time": "2022-12-17T15:30:03.764420",
     "status": "completed"
    },
    "tags": []
   },
   "outputs": [
    {
     "name": "stdout",
     "output_type": "stream",
     "text": [
      "cp: cannot create directory '/kaggle/working/yolov5/training': No such file or directory\r\n",
      "cp: cannot create directory '/kaggle/working/yolov5/evaluation': No such file or directory\r\n"
     ]
    }
   ],
   "source": [
    "!rm -rf /kaggle/working/yolov5/training\n",
    "!rm -rf /kaggle/working/yolov5/evaluation\n",
    "!cp -rf /kaggle/input/training /kaggle/working/yolov5/training\n",
    "!cp -rf /kaggle/input/evaluation /kaggle/working/yolov5/evaluation\n"
   ]
  },
  {
   "cell_type": "markdown",
   "id": "f6da4e32",
   "metadata": {
    "papermill": {
     "duration": 0.002597,
     "end_time": "2022-12-17T15:30:08.105626",
     "exception": false,
     "start_time": "2022-12-17T15:30:08.103029",
     "status": "completed"
    },
    "tags": []
   },
   "source": [
    "# Actual training of the YoloV5 "
   ]
  },
  {
   "cell_type": "code",
   "execution_count": 3,
   "id": "86569c9d",
   "metadata": {
    "execution": {
     "iopub.execute_input": "2022-12-17T15:30:08.113270Z",
     "iopub.status.busy": "2022-12-17T15:30:08.112282Z",
     "iopub.status.idle": "2022-12-17T15:30:11.337436Z",
     "shell.execute_reply": "2022-12-17T15:30:11.335787Z"
    },
    "papermill": {
     "duration": 3.231819,
     "end_time": "2022-12-17T15:30:11.340083",
     "exception": false,
     "start_time": "2022-12-17T15:30:08.108264",
     "status": "completed"
    },
    "tags": []
   },
   "outputs": [
    {
     "name": "stdout",
     "output_type": "stream",
     "text": [
      "/bin/bash: line 0: cd: /kaggle/working/yolov5/training: No such file or directory\r\n",
      "python: can't open file '/kaggle/working/yolov5/train.py': [Errno 2] No such file or directory\r\n"
     ]
    }
   ],
   "source": [
    "!cd /kaggle/working/yolov5/training\n",
    "!rm -rf /kaggle/working/yolov5/runs/train/exp*\n",
    "!python /kaggle/working/yolov5/train.py --img 640 --batch 16 --epochs 150 --data /kaggle/working/yolov5/training/data.yaml --weights 'yolov5s.pt' "
   ]
  },
  {
   "cell_type": "markdown",
   "id": "5c9c2cc5",
   "metadata": {
    "papermill": {
     "duration": 0.002776,
     "end_time": "2022-12-17T15:30:11.345803",
     "exception": false,
     "start_time": "2022-12-17T15:30:11.343027",
     "status": "completed"
    },
    "tags": []
   },
   "source": [
    "# Perform validation against image"
   ]
  },
  {
   "cell_type": "code",
   "execution_count": 4,
   "id": "d9398562",
   "metadata": {
    "execution": {
     "iopub.execute_input": "2022-12-17T15:30:11.353785Z",
     "iopub.status.busy": "2022-12-17T15:30:11.352780Z",
     "iopub.status.idle": "2022-12-17T15:30:13.585093Z",
     "shell.execute_reply": "2022-12-17T15:30:13.583752Z"
    },
    "papermill": {
     "duration": 2.239129,
     "end_time": "2022-12-17T15:30:13.587768",
     "exception": false,
     "start_time": "2022-12-17T15:30:11.348639",
     "status": "completed"
    },
    "tags": []
   },
   "outputs": [
    {
     "name": "stdout",
     "output_type": "stream",
     "text": [
      "python: can't open file '/kaggle/working/yolov5/val.py': [Errno 2] No such file or directory\r\n"
     ]
    }
   ],
   "source": [
    "!rm -rf /kaggle/working/yolov5/runs/val/exp*\n",
    "!python /kaggle/working/yolov5/val.py --weights '/kaggle/working/yolov5/runs/train/exp/weights/best.pt' --data /kaggle/working/yolov5/training/data.yaml --img 640 --iou 0.65 --half"
   ]
  },
  {
   "cell_type": "code",
   "execution_count": 5,
   "id": "fbf97ad0",
   "metadata": {
    "execution": {
     "iopub.execute_input": "2022-12-17T15:30:13.596619Z",
     "iopub.status.busy": "2022-12-17T15:30:13.595863Z",
     "iopub.status.idle": "2022-12-17T15:30:15.934692Z",
     "shell.execute_reply": "2022-12-17T15:30:15.933297Z"
    },
    "papermill": {
     "duration": 2.347279,
     "end_time": "2022-12-17T15:30:15.938381",
     "exception": false,
     "start_time": "2022-12-17T15:30:13.591102",
     "status": "completed"
    },
    "tags": []
   },
   "outputs": [
    {
     "name": "stdout",
     "output_type": "stream",
     "text": [
      "/bin/bash: line 0: cd: /kaggle/working/yolov5: No such file or directory\r\n",
      "python: can't open file '/kaggle/working/yolov5/detect.py': [Errno 2] No such file or directory\r\n"
     ]
    }
   ],
   "source": [
    "!cd /kaggle/working/yolov5\n",
    "!python /kaggle/working/yolov5/detect.py --weights /kaggle/working/yolov5/runs/train/exp/weights/best.pt --img 640 --conf 0.265 --source /kaggle/working/yolov5/evaluation/eval3.png"
   ]
  }
 ],
 "metadata": {
  "kernelspec": {
   "display_name": "Python 3",
   "language": "python",
   "name": "python3"
  },
  "language_info": {
   "codemirror_mode": {
    "name": "ipython",
    "version": 3
   },
   "file_extension": ".py",
   "mimetype": "text/x-python",
   "name": "python",
   "nbconvert_exporter": "python",
   "pygments_lexer": "ipython3",
   "version": "3.7.12"
  },
  "papermill": {
   "default_parameters": {},
   "duration": 27.850872,
   "end_time": "2022-12-17T15:30:16.468082",
   "environment_variables": {},
   "exception": null,
   "input_path": "__notebook__.ipynb",
   "output_path": "__notebook__.ipynb",
   "parameters": {},
   "start_time": "2022-12-17T15:29:48.617210",
   "version": "2.3.4"
  }
 },
 "nbformat": 4,
 "nbformat_minor": 5
}
